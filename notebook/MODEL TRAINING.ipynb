{
 "cells": [
  {
   "cell_type": "code",
   "execution_count": null,
   "id": "fa4a4129",
   "metadata": {},
   "outputs": [],
   "source": [
    "import pandas as pd\n",
    "import seaborn as sea\n",
    "import matplotlib.pyplot as plt\n",
    "import numpy as np\n",
    "\n",
    "\n",
    "from sklearn.metrics import r2_score,mean_absolute_error,mean_squared_error\n",
    "from sklearn.linear_model import LinearRegression,Ridge,Lasso\n",
    "from sklearn.neighbors import KNeighborsRegressor\n",
    "from sklearn.tree import DecisionTreeRegressor\n",
    "from sklearn.ensemble import RandomForestRegressor,AdaBoostRegressor\n",
    "from sklearn.svm import SVR\n",
    "from sklearn.model_selection import RandomizedSearchCV\n",
    "from xgboost import XGBRegressor\n",
    "from catboost import CatBoostRegressor\n",
    "import warnings\n",
    "\n",
    "warnings.filterwarnings(\"ignore\")\n",
    "\n",
    "%matplotlib inline"
   ]
  },
  {
   "cell_type": "code",
   "execution_count": 2,
   "id": "fa2f6f39",
   "metadata": {},
   "outputs": [],
   "source": [
    "df=pd.read_csv(\"data/stud.csv\")"
   ]
  },
  {
   "cell_type": "code",
   "execution_count": 3,
   "id": "34357a6c",
   "metadata": {},
   "outputs": [
    {
     "data": {
      "text/html": [
       "<div>\n",
       "<style scoped>\n",
       "    .dataframe tbody tr th:only-of-type {\n",
       "        vertical-align: middle;\n",
       "    }\n",
       "\n",
       "    .dataframe tbody tr th {\n",
       "        vertical-align: top;\n",
       "    }\n",
       "\n",
       "    .dataframe thead th {\n",
       "        text-align: right;\n",
       "    }\n",
       "</style>\n",
       "<table border=\"1\" class=\"dataframe\">\n",
       "  <thead>\n",
       "    <tr style=\"text-align: right;\">\n",
       "      <th></th>\n",
       "      <th>gender</th>\n",
       "      <th>race/ethnicity</th>\n",
       "      <th>parental level of education</th>\n",
       "      <th>lunch</th>\n",
       "      <th>test preparation course</th>\n",
       "      <th>math score</th>\n",
       "      <th>reading score</th>\n",
       "      <th>writing score</th>\n",
       "    </tr>\n",
       "  </thead>\n",
       "  <tbody>\n",
       "    <tr>\n",
       "      <th>0</th>\n",
       "      <td>female</td>\n",
       "      <td>group B</td>\n",
       "      <td>bachelor's degree</td>\n",
       "      <td>standard</td>\n",
       "      <td>none</td>\n",
       "      <td>72</td>\n",
       "      <td>72</td>\n",
       "      <td>74</td>\n",
       "    </tr>\n",
       "    <tr>\n",
       "      <th>1</th>\n",
       "      <td>female</td>\n",
       "      <td>group C</td>\n",
       "      <td>some college</td>\n",
       "      <td>standard</td>\n",
       "      <td>completed</td>\n",
       "      <td>69</td>\n",
       "      <td>90</td>\n",
       "      <td>88</td>\n",
       "    </tr>\n",
       "    <tr>\n",
       "      <th>2</th>\n",
       "      <td>female</td>\n",
       "      <td>group B</td>\n",
       "      <td>master's degree</td>\n",
       "      <td>standard</td>\n",
       "      <td>none</td>\n",
       "      <td>90</td>\n",
       "      <td>95</td>\n",
       "      <td>93</td>\n",
       "    </tr>\n",
       "    <tr>\n",
       "      <th>3</th>\n",
       "      <td>male</td>\n",
       "      <td>group A</td>\n",
       "      <td>associate's degree</td>\n",
       "      <td>free/reduced</td>\n",
       "      <td>none</td>\n",
       "      <td>47</td>\n",
       "      <td>57</td>\n",
       "      <td>44</td>\n",
       "    </tr>\n",
       "    <tr>\n",
       "      <th>4</th>\n",
       "      <td>male</td>\n",
       "      <td>group C</td>\n",
       "      <td>some college</td>\n",
       "      <td>standard</td>\n",
       "      <td>none</td>\n",
       "      <td>76</td>\n",
       "      <td>78</td>\n",
       "      <td>75</td>\n",
       "    </tr>\n",
       "  </tbody>\n",
       "</table>\n",
       "</div>"
      ],
      "text/plain": [
       "   gender race/ethnicity parental level of education         lunch  \\\n",
       "0  female        group B           bachelor's degree      standard   \n",
       "1  female        group C                some college      standard   \n",
       "2  female        group B             master's degree      standard   \n",
       "3    male        group A          associate's degree  free/reduced   \n",
       "4    male        group C                some college      standard   \n",
       "\n",
       "  test preparation course  math score  reading score  writing score  \n",
       "0                    none          72             72             74  \n",
       "1               completed          69             90             88  \n",
       "2                    none          90             95             93  \n",
       "3                    none          47             57             44  \n",
       "4                    none          76             78             75  "
      ]
     },
     "execution_count": 3,
     "metadata": {},
     "output_type": "execute_result"
    }
   ],
   "source": [
    "df.head()"
   ]
  },
  {
   "cell_type": "code",
   "execution_count": 7,
   "id": "b053e54d",
   "metadata": {},
   "outputs": [],
   "source": [
    "X=df.drop(columns=[\"math score\"],axis=1)\n",
    "y=df[\"math score\"]"
   ]
  },
  {
   "cell_type": "code",
   "execution_count": 19,
   "id": "36192ced",
   "metadata": {},
   "outputs": [],
   "source": [
    "num_features=[features for features in X.columns if X[features].dtype!=\"O\"]\n",
    "cat_features=[features for features in X.columns if X[features].dtype==\"O\"]"
   ]
  },
  {
   "cell_type": "code",
   "execution_count": 20,
   "id": "f28ebc29",
   "metadata": {},
   "outputs": [
    {
     "data": {
      "text/plain": [
       "['reading score', 'writing score']"
      ]
     },
     "execution_count": 20,
     "metadata": {},
     "output_type": "execute_result"
    }
   ],
   "source": [
    "num_features"
   ]
  },
  {
   "cell_type": "code",
   "execution_count": 21,
   "id": "eb5515cd",
   "metadata": {},
   "outputs": [],
   "source": [
    "from sklearn.compose import ColumnTransformer\n",
    "from sklearn.preprocessing import OneHotEncoder, StandardScaler\n",
    "\n",
    "scaler=StandardScaler()\n",
    "oh=OneHotEncoder()\n",
    "\n",
    "preprocessor=ColumnTransformer(\n",
    "    [\n",
    "    (\"OneHotEncoder\",oh,cat_features),\n",
    "    (\"StandardScaler\",scaler,num_features)\n",
    "    ]\n",
    ")"
   ]
  },
  {
   "cell_type": "code",
   "execution_count": 22,
   "id": "a0b88f28",
   "metadata": {},
   "outputs": [],
   "source": [
    "X=preprocessor.fit_transform(X)"
   ]
  },
  {
   "cell_type": "code",
   "execution_count": 23,
   "id": "351078ec",
   "metadata": {},
   "outputs": [
    {
     "data": {
      "text/plain": [
       "(1000, 19)"
      ]
     },
     "execution_count": 23,
     "metadata": {},
     "output_type": "execute_result"
    }
   ],
   "source": [
    "X.shape"
   ]
  },
  {
   "cell_type": "code",
   "execution_count": 24,
   "id": "76128543",
   "metadata": {},
   "outputs": [],
   "source": [
    "from sklearn.model_selection import train_test_split\n",
    "\n",
    "X_train,X_test,y_train,y_test=train_test_split(X,y,test_size=0.20,random_state=42)"
   ]
  },
  {
   "cell_type": "code",
   "execution_count": 35,
   "id": "c8045fcb",
   "metadata": {},
   "outputs": [
    {
     "name": "stdout",
     "output_type": "stream",
     "text": [
      "RandomForestRegressor\n",
      "MAE_Train: 1.8348854166666666\n",
      "MSE_Train: 5.257106034722223\n",
      "R2_Score_Train: 0.974458722449499\n",
      "MAE: 4.6271458333333335\n",
      "MSE: 35.50850837847223\n",
      "R2_Score: 0.8262727959795229\n",
      "---------------------------\n",
      "AdaBoostRegressor\n",
      "MAE_Train: 4.795114825265343\n",
      "MSE_Train: 34.11377637541121\n",
      "R2_Score_Train: 0.8040426097241651\n",
      "MAE: 4.686615378306871\n",
      "MSE: 36.27200738201693\n",
      "R2_Score: 0.8031554197121648\n",
      "---------------------------\n",
      "LinearRegression\n",
      "MAE_Train: 4.272265625\n",
      "MSE_Train: 28.5175634765625\n",
      "R2_Score_Train: 0.8560179779781416\n",
      "MAE: 4.2253125\n",
      "MSE: 29.39126953125\n",
      "R2_Score: 0.8659424994992475\n",
      "---------------------------\n",
      "Lasso\n",
      "MAE_Train: 5.206302661246526\n",
      "MSE_Train: 43.47840400585579\n",
      "R2_Score_Train: 0.6903948906164419\n",
      "MAE: 5.157881810347763\n",
      "MSE: 42.5064168384116\n",
      "R2_Score: 0.727536565502517\n",
      "---------------------------\n",
      "Ridge\n",
      "MAE_Train: 4.26498782372598\n",
      "MSE_Train: 28.337788233082442\n",
      "R2_Score_Train: 0.8557734008261899\n",
      "MAE: 4.211100688014259\n",
      "MSE: 29.056272192348274\n",
      "R2_Score: 0.8667954531044715\n",
      "---------------------------\n",
      "XGBRegressor\n",
      "MAE_Train: 0.6874666035175323\n",
      "MSE_Train: 1.0146163961652577\n",
      "R2_Score_Train: 0.9953820635619934\n",
      "MAE: 5.057730598449707\n",
      "MSE: 41.90370826987466\n",
      "R2_Score: 0.7932567221484703\n",
      "---------------------------\n",
      "CatBoostRegressor\n",
      "MAE_Train: 2.405393926779502\n",
      "MSE_Train: 9.257805405523678\n",
      "R2_Score_Train: 0.9550045327552841\n",
      "MAE: 4.612531714976557\n",
      "MSE: 36.10365799356841\n",
      "R2_Score: 0.8113832919701112\n",
      "---------------------------\n",
      "SVR\n",
      "MAE_Train: 4.869189452384867\n",
      "MSE_Train: 43.257024268031365\n",
      "R2_Score_Train: 0.6564529304568631\n",
      "MAE: 5.4015392444969965\n",
      "MSE: 66.04200493745648\n",
      "R2_Score: 0.4444730629279777\n",
      "---------------------------\n",
      "DecisionTreeRegressor\n",
      "MAE_Train: 0.01875\n",
      "MSE_Train: 0.078125\n",
      "R2_Score_Train: 0.9996533468450414\n",
      "MAE: 6.31\n",
      "MSE: 63.71\n",
      "R2_Score: 0.7268796156851952\n",
      "---------------------------\n",
      "KNeighborsRegressor\n",
      "MAE_Train: 4.5175\n",
      "MSE_Train: 32.593399999999995\n",
      "R2_Score_Train: 0.7984974634126573\n",
      "MAE: 5.6370000000000005\n",
      "MSE: 52.6834\n",
      "R2_Score: 0.6476226420642079\n",
      "---------------------------\n"
     ]
    }
   ],
   "source": [
    "models={\n",
    "    \"RandomForestRegressor\":RandomForestRegressor(),\n",
    "    \"AdaBoostRegressor\":AdaBoostRegressor(),\n",
    "    \"LinearRegression\": LinearRegression(),\n",
    "    \"Lasso\":Lasso(),\n",
    "    \"Ridge\":Ridge(),\n",
    "    \"XGBRegressor\":XGBRegressor(),\n",
    "    \"CatBoostRegressor\":CatBoostRegressor(verbose=False),\n",
    "    \"SVR\":SVR(),\n",
    "    \"DecisionTreeRegressor\":DecisionTreeRegressor(),\n",
    "    \"KNeighborsRegressor\":KNeighborsRegressor()\n",
    "    \n",
    "}\n",
    "\n",
    "models_list=[]\n",
    "r2_list=[]\n",
    "\n",
    "\n",
    "for i in range(len(list(models))):\n",
    "    model=list(models.values())[i]\n",
    "    model.fit(X_train,y_train)\n",
    "\n",
    "    y_pred=model.predict(X_test)\n",
    "    y_pred_train=model.predict(X_train)\n",
    "\n",
    "    mae_train=mean_absolute_error(y_pred_train,y_train)\n",
    "    mse_train=mean_squared_error(y_pred_train,y_train)\n",
    "    r2score_train=r2_score(y_pred_train,y_train)\n",
    "\n",
    "    mae=mean_absolute_error(y_pred,y_test)\n",
    "    mse=mean_squared_error(y_pred,y_test)\n",
    "    r2score=r2_score(y_pred,y_test)\n",
    "\n",
    "    print(list(models.keys())[i])\n",
    "\n",
    "\n",
    "    print(\"MAE_Train:\",mae_train)\n",
    "    print(\"MSE_Train:\",mse_train)\n",
    "    print(\"R2_Score_Train:\",r2score_train)\n",
    "    print(\"MAE:\",mae)\n",
    "    print(\"MSE:\",mse)\n",
    "    print(\"R2_Score:\",r2score)\n",
    "\n",
    "    print(\"---------------------------\")\n"
   ]
  }
 ],
 "metadata": {
  "kernelspec": {
   "display_name": "Python 3",
   "language": "python",
   "name": "python3"
  },
  "language_info": {
   "codemirror_mode": {
    "name": "ipython",
    "version": 3
   },
   "file_extension": ".py",
   "mimetype": "text/x-python",
   "name": "python",
   "nbconvert_exporter": "python",
   "pygments_lexer": "ipython3",
   "version": "3.8.20"
  }
 },
 "nbformat": 4,
 "nbformat_minor": 5
}
